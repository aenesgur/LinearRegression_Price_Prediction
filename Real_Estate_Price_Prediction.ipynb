{
 "cells": [
  {
   "cell_type": "code",
   "execution_count": 18,
   "id": "fallen-chosen",
   "metadata": {},
   "outputs": [],
   "source": [
    "#import dependencies and libraries\n",
    "import pandas as pd\n",
    "import numpy as np\n",
    "import seaborn as sns\n",
    "import matplotlib.pyplot as plt\n",
    "from sklearn import linear_model\n",
    "from sklearn.model_selection import train_test_split\n",
    "\n",
    "\n",
    "%matplotlib inline"
   ]
  },
  {
   "cell_type": "code",
   "execution_count": 4,
   "id": "executed-lebanon",
   "metadata": {},
   "outputs": [
    {
     "name": "stdout",
     "output_type": "stream",
     "text": [
      "     X1 transaction date  X2 house age  \\\n",
      "0               2012.917          32.0   \n",
      "1               2012.917          19.5   \n",
      "2               2013.583          13.3   \n",
      "3               2013.500          13.3   \n",
      "4               2012.833           5.0   \n",
      "..                   ...           ...   \n",
      "409             2013.000          13.7   \n",
      "410             2012.667           5.6   \n",
      "411             2013.250          18.8   \n",
      "412             2013.000           8.1   \n",
      "413             2013.500           6.5   \n",
      "\n",
      "     X3 distance to the nearest MRT station  X4 number of convenience stores  \\\n",
      "0                                  84.87882                               10   \n",
      "1                                 306.59470                                9   \n",
      "2                                 561.98450                                5   \n",
      "3                                 561.98450                                5   \n",
      "4                                 390.56840                                5   \n",
      "..                                      ...                              ...   \n",
      "409                              4082.01500                                0   \n",
      "410                                90.45606                                9   \n",
      "411                               390.96960                                7   \n",
      "412                               104.81010                                5   \n",
      "413                                90.45606                                9   \n",
      "\n",
      "     X5 latitude  X6 longitude  Y house price of unit area  \n",
      "0       24.98298     121.54024                        37.9  \n",
      "1       24.98034     121.53951                        42.2  \n",
      "2       24.98746     121.54391                        47.3  \n",
      "3       24.98746     121.54391                        54.8  \n",
      "4       24.97937     121.54245                        43.1  \n",
      "..           ...           ...                         ...  \n",
      "409     24.94155     121.50381                        15.4  \n",
      "410     24.97433     121.54310                        50.0  \n",
      "411     24.97923     121.53986                        40.6  \n",
      "412     24.96674     121.54067                        52.5  \n",
      "413     24.97433     121.54310                        63.9  \n",
      "\n",
      "[414 rows x 7 columns]\n"
     ]
    }
   ],
   "source": [
    "#import dataset\n",
    "dataset=pd.read_csv(\"RealEstateDataset.csv\")\n"
   ]
  },
  {
   "cell_type": "code",
   "execution_count": 5,
   "id": "royal-steps",
   "metadata": {},
   "outputs": [],
   "source": [
    "#Independent variables known as x values\n",
    "#Dependent variable known as the y value \n",
    "x = dataset[['X1 transaction date','X2 house age','X3 distance to the nearest MRT station','X4 number of convenience stores','X5 latitude','X6 longitude']]\n",
    "\n",
    "y = dataset[['Y house price of unit area']]"
   ]
  },
  {
   "cell_type": "code",
   "execution_count": 6,
   "id": "statutory-visitor",
   "metadata": {},
   "outputs": [],
   "source": [
    "#Initialize the linear regression model\n",
    "reg = linear_model.LinearRegression()"
   ]
  },
  {
   "cell_type": "code",
   "execution_count": 7,
   "id": "particular-heart",
   "metadata": {},
   "outputs": [],
   "source": [
    "#Split the data into 67% training and 33% testing data\n",
    "x_train, x_test, y_train, y_test = train_test_split(x, y, test_size=0.33, random_state=42)"
   ]
  },
  {
   "cell_type": "code",
   "execution_count": 8,
   "id": "ancient-operation",
   "metadata": {},
   "outputs": [
    {
     "data": {
      "text/html": [
       "<div>\n",
       "<style scoped>\n",
       "    .dataframe tbody tr th:only-of-type {\n",
       "        vertical-align: middle;\n",
       "    }\n",
       "\n",
       "    .dataframe tbody tr th {\n",
       "        vertical-align: top;\n",
       "    }\n",
       "\n",
       "    .dataframe thead th {\n",
       "        text-align: right;\n",
       "    }\n",
       "</style>\n",
       "<table border=\"1\" class=\"dataframe\">\n",
       "  <thead>\n",
       "    <tr style=\"text-align: right;\">\n",
       "      <th></th>\n",
       "      <th>X1 transaction date</th>\n",
       "      <th>X2 house age</th>\n",
       "      <th>X3 distance to the nearest MRT station</th>\n",
       "      <th>X4 number of convenience stores</th>\n",
       "      <th>X5 latitude</th>\n",
       "      <th>X6 longitude</th>\n",
       "    </tr>\n",
       "  </thead>\n",
       "  <tbody>\n",
       "    <tr>\n",
       "      <th>396</th>\n",
       "      <td>2012.667</td>\n",
       "      <td>37.1</td>\n",
       "      <td>918.6357</td>\n",
       "      <td>1</td>\n",
       "      <td>24.97198</td>\n",
       "      <td>121.55063</td>\n",
       "    </tr>\n",
       "    <tr>\n",
       "      <th>239</th>\n",
       "      <td>2013.500</td>\n",
       "      <td>18.1</td>\n",
       "      <td>837.7233</td>\n",
       "      <td>0</td>\n",
       "      <td>24.96334</td>\n",
       "      <td>121.54767</td>\n",
       "    </tr>\n",
       "    <tr>\n",
       "      <th>83</th>\n",
       "      <td>2012.917</td>\n",
       "      <td>25.3</td>\n",
       "      <td>2707.3920</td>\n",
       "      <td>3</td>\n",
       "      <td>24.96056</td>\n",
       "      <td>121.50831</td>\n",
       "    </tr>\n",
       "    <tr>\n",
       "      <th>168</th>\n",
       "      <td>2013.083</td>\n",
       "      <td>27.6</td>\n",
       "      <td>515.1122</td>\n",
       "      <td>5</td>\n",
       "      <td>24.96299</td>\n",
       "      <td>121.54320</td>\n",
       "    </tr>\n",
       "    <tr>\n",
       "      <th>323</th>\n",
       "      <td>2013.417</td>\n",
       "      <td>28.6</td>\n",
       "      <td>197.1338</td>\n",
       "      <td>6</td>\n",
       "      <td>24.97631</td>\n",
       "      <td>121.54436</td>\n",
       "    </tr>\n",
       "    <tr>\n",
       "      <th>...</th>\n",
       "      <td>...</td>\n",
       "      <td>...</td>\n",
       "      <td>...</td>\n",
       "      <td>...</td>\n",
       "      <td>...</td>\n",
       "      <td>...</td>\n",
       "    </tr>\n",
       "    <tr>\n",
       "      <th>71</th>\n",
       "      <td>2013.083</td>\n",
       "      <td>35.5</td>\n",
       "      <td>640.7391</td>\n",
       "      <td>3</td>\n",
       "      <td>24.97563</td>\n",
       "      <td>121.53715</td>\n",
       "    </tr>\n",
       "    <tr>\n",
       "      <th>106</th>\n",
       "      <td>2013.083</td>\n",
       "      <td>17.2</td>\n",
       "      <td>189.5181</td>\n",
       "      <td>8</td>\n",
       "      <td>24.97707</td>\n",
       "      <td>121.54308</td>\n",
       "    </tr>\n",
       "    <tr>\n",
       "      <th>270</th>\n",
       "      <td>2013.333</td>\n",
       "      <td>10.8</td>\n",
       "      <td>252.5822</td>\n",
       "      <td>1</td>\n",
       "      <td>24.97460</td>\n",
       "      <td>121.53046</td>\n",
       "    </tr>\n",
       "    <tr>\n",
       "      <th>348</th>\n",
       "      <td>2012.833</td>\n",
       "      <td>4.6</td>\n",
       "      <td>259.6607</td>\n",
       "      <td>6</td>\n",
       "      <td>24.97585</td>\n",
       "      <td>121.54516</td>\n",
       "    </tr>\n",
       "    <tr>\n",
       "      <th>102</th>\n",
       "      <td>2013.083</td>\n",
       "      <td>1.1</td>\n",
       "      <td>193.5845</td>\n",
       "      <td>6</td>\n",
       "      <td>24.96571</td>\n",
       "      <td>121.54089</td>\n",
       "    </tr>\n",
       "  </tbody>\n",
       "</table>\n",
       "<p>277 rows × 6 columns</p>\n",
       "</div>"
      ],
      "text/plain": [
       "     X1 transaction date  X2 house age  \\\n",
       "396             2012.667          37.1   \n",
       "239             2013.500          18.1   \n",
       "83              2012.917          25.3   \n",
       "168             2013.083          27.6   \n",
       "323             2013.417          28.6   \n",
       "..                   ...           ...   \n",
       "71              2013.083          35.5   \n",
       "106             2013.083          17.2   \n",
       "270             2013.333          10.8   \n",
       "348             2012.833           4.6   \n",
       "102             2013.083           1.1   \n",
       "\n",
       "     X3 distance to the nearest MRT station  X4 number of convenience stores  \\\n",
       "396                                918.6357                                1   \n",
       "239                                837.7233                                0   \n",
       "83                                2707.3920                                3   \n",
       "168                                515.1122                                5   \n",
       "323                                197.1338                                6   \n",
       "..                                      ...                              ...   \n",
       "71                                 640.7391                                3   \n",
       "106                                189.5181                                8   \n",
       "270                                252.5822                                1   \n",
       "348                                259.6607                                6   \n",
       "102                                193.5845                                6   \n",
       "\n",
       "     X5 latitude  X6 longitude  \n",
       "396     24.97198     121.55063  \n",
       "239     24.96334     121.54767  \n",
       "83      24.96056     121.50831  \n",
       "168     24.96299     121.54320  \n",
       "323     24.97631     121.54436  \n",
       "..           ...           ...  \n",
       "71      24.97563     121.53715  \n",
       "106     24.97707     121.54308  \n",
       "270     24.97460     121.53046  \n",
       "348     24.97585     121.54516  \n",
       "102     24.96571     121.54089  \n",
       "\n",
       "[277 rows x 6 columns]"
      ]
     },
     "execution_count": 8,
     "metadata": {},
     "output_type": "execute_result"
    }
   ],
   "source": [
    "#Print traning x data\n",
    "x_train"
   ]
  },
  {
   "cell_type": "code",
   "execution_count": 9,
   "id": "technical-arnold",
   "metadata": {},
   "outputs": [
    {
     "data": {
      "text/plain": [
       "LinearRegression()"
      ]
     },
     "execution_count": 9,
     "metadata": {},
     "output_type": "execute_result"
    }
   ],
   "source": [
    "#Train the model with our traning data\n",
    "reg.fit(x_train, y_train)"
   ]
  },
  {
   "cell_type": "code",
   "execution_count": 10,
   "id": "operational-roommate",
   "metadata": {},
   "outputs": [
    {
     "name": "stdout",
     "output_type": "stream",
     "text": [
      "[[47.58281848]\n",
      " [41.12956716]\n",
      " [44.61591328]\n",
      " [40.91545155]\n",
      " [27.4914267 ]\n",
      " [45.91243395]\n",
      " [44.90303604]\n",
      " [46.75649655]\n",
      " [23.81500471]\n",
      " [54.37384198]\n",
      " [34.73595365]\n",
      " [36.34232734]\n",
      " [37.63167039]\n",
      " [23.46439036]\n",
      " [36.2167904 ]\n",
      " [34.65677761]\n",
      " [44.0446418 ]\n",
      " [45.0578296 ]\n",
      " [29.94188293]\n",
      " [43.91347598]\n",
      " [-0.48760813]\n",
      " [35.39607098]\n",
      " [48.22977204]\n",
      " [45.50208311]\n",
      " [10.1411108 ]\n",
      " [40.38120799]\n",
      " [11.51513829]\n",
      " [43.1699423 ]\n",
      " [35.78494965]\n",
      " [38.30024335]\n",
      " [12.62225054]\n",
      " [40.31416379]\n",
      " [35.44633343]\n",
      " [26.75347147]\n",
      " [46.69041147]\n",
      " [32.3636208 ]\n",
      " [50.6911119 ]\n",
      " [12.83145551]\n",
      " [49.88855791]\n",
      " [40.91286497]\n",
      " [39.17825262]\n",
      " [41.06487639]\n",
      " [47.80477741]\n",
      " [37.93954394]\n",
      " [39.73197807]\n",
      " [46.69949407]\n",
      " [43.51770987]\n",
      " [18.72608464]\n",
      " [47.04934433]\n",
      " [46.13441943]\n",
      " [48.06288085]\n",
      " [48.92784427]\n",
      " [43.18435905]\n",
      " [43.07096364]\n",
      " [36.71282803]\n",
      " [13.77317318]\n",
      " [37.31778709]\n",
      " [34.21664459]\n",
      " [28.3789786 ]\n",
      " [46.27643418]\n",
      " [32.94609897]\n",
      " [33.10556748]\n",
      " [13.77317318]\n",
      " [ 8.09686588]\n",
      " [ 9.3609588 ]\n",
      " [34.45435331]\n",
      " [27.44839745]\n",
      " [46.66035716]\n",
      " [34.06294407]\n",
      " [30.50764862]\n",
      " [45.72823522]\n",
      " [39.24255749]\n",
      " [45.5194849 ]\n",
      " [45.09889366]\n",
      " [35.75151853]\n",
      " [38.11813064]\n",
      " [38.83456095]\n",
      " [37.6691998 ]\n",
      " [40.96160564]\n",
      " [34.14807176]\n",
      " [42.69388656]\n",
      " [43.52963789]\n",
      " [27.25659902]\n",
      " [39.49198256]\n",
      " [33.83007539]\n",
      " [30.66095798]\n",
      " [39.87920159]\n",
      " [45.29036216]\n",
      " [34.9429795 ]\n",
      " [39.85096955]\n",
      " [12.00064742]\n",
      " [41.54817599]\n",
      " [42.14400975]\n",
      " [48.77447093]\n",
      " [46.58788795]\n",
      " [40.43616017]\n",
      " [34.31766479]\n",
      " [45.28821959]\n",
      " [32.30687568]\n",
      " [47.4514018 ]\n",
      " [29.62982656]\n",
      " [34.13589851]\n",
      " [43.34344005]\n",
      " [30.52404932]\n",
      " [48.74634356]\n",
      " [49.31771375]\n",
      " [29.78096685]\n",
      " [26.08558617]\n",
      " [41.11649551]\n",
      " [39.27202531]\n",
      " [37.42444274]\n",
      " [40.4296053 ]\n",
      " [48.61180926]\n",
      " [45.30265811]\n",
      " [17.26035465]\n",
      " [41.59623754]\n",
      " [45.79058794]\n",
      " [43.84611292]\n",
      " [31.20192113]\n",
      " [31.4009844 ]\n",
      " [46.34114939]\n",
      " [13.99599634]\n",
      " [50.48882062]\n",
      " [46.64110082]\n",
      " [37.99737671]\n",
      " [47.4664369 ]\n",
      " [14.53685182]\n",
      " [47.04934433]\n",
      " [11.53230142]\n",
      " [30.73100389]\n",
      " [35.33801353]\n",
      " [40.45478379]\n",
      " [45.55208053]\n",
      " [40.37877074]\n",
      " [36.8223897 ]\n",
      " [34.29449936]\n",
      " [37.8278193 ]]\n"
     ]
    }
   ],
   "source": [
    "#Print predictions on our test data\n",
    "y_pred = reg.predict(x_test)\n",
    "print(y_pred)"
   ]
  },
  {
   "cell_type": "code",
   "execution_count": 11,
   "id": "vertical-belief",
   "metadata": {},
   "outputs": [
    {
     "name": "stdout",
     "output_type": "stream",
     "text": [
      "     Y house price of unit area\n",
      "358                        45.1\n",
      "350                        42.3\n",
      "373                        52.2\n",
      "399                        37.3\n",
      "369                        22.8\n",
      "..                          ...\n",
      "145                        45.5\n",
      "265                        38.1\n",
      "109                        28.4\n",
      "202                        31.5\n",
      "196                        36.6\n",
      "\n",
      "[137 rows x 1 columns]\n"
     ]
    }
   ],
   "source": [
    "#Print the actual values\n",
    "print(y_test)"
   ]
  },
  {
   "cell_type": "code",
   "execution_count": 13,
   "id": "genetic-slave",
   "metadata": {},
   "outputs": [
    {
     "name": "stdout",
     "output_type": "stream",
     "text": [
      "Y house price of unit area    71.485703\n",
      "dtype: float64\n"
     ]
    }
   ],
   "source": [
    "print( np.mean((y_pred - y_test)**2) )"
   ]
  },
  {
   "cell_type": "code",
   "execution_count": 22,
   "id": "painful-breakfast",
   "metadata": {},
   "outputs": [
    {
     "data": {
      "text/plain": [
       "<matplotlib.collections.PathCollection at 0x1bffa2c4d30>"
      ]
     },
     "execution_count": 22,
     "metadata": {},
     "output_type": "execute_result"
    },
    {
     "data": {
      "image/png": "[encoded data removed]",
      "text/plain": [
       "<Figure size 432x288 with 1 Axes>"
      ]
     },
     "metadata": {
      "needs_background": "light"
     },
     "output_type": "display_data"
    }
   ],
   "source": [
    "#Visualize test and prediction values with matploit library\n",
    "plt.scatter(y_test, y_pred)"
   ]
  },
  {
   "cell_type": "code",
   "execution_count": 23,
   "id": "three-bangkok",
   "metadata": {},
   "outputs": [
    {
     "name": "stderr",
     "output_type": "stream",
     "text": [
      "c:\\users\\asus\\appdata\\local\\programs\\python\\python38\\lib\\site-packages\\seaborn\\distributions.py:2557: FutureWarning: `distplot` is a deprecated function and will be removed in a future version. Please adapt your code to use either `displot` (a figure-level function with similar flexibility) or `histplot` (an axes-level function for histograms).\n",
      "  warnings.warn(msg, FutureWarning)\n"
     ]
    },
    {
     "data": {
      "image/png": "[encoded data removed]",
      "text/plain": [
       "<Figure size 432x288 with 1 Axes>"
      ]
     },
     "metadata": {
      "needs_background": "light"
     },
     "output_type": "display_data"
    }
   ],
   "source": [
    "#Visualize test and prediction values with seaborn library\n",
    "sns.distplot((y_test-y_pred),bins=50);"
   ]
  },
  {
   "cell_type": "code",
   "execution_count": null,
   "id": "interior-reserve",
   "metadata": {},
   "outputs": [],
   "source": []
  }
 ],
 "metadata": {
  "kernelspec": {
   "display_name": "Python 3",
   "language": "python",
   "name": "python3"
  },
  "language_info": {
   "codemirror_mode": {
    "name": "ipython",
    "version": 3
   },
   "file_extension": ".py",
   "mimetype": "text/x-python",
   "name": "python",
   "nbconvert_exporter": "python",
   "pygments_lexer": "ipython3",
   "version": "3.8.2"
  }
 },
 "nbformat": 4,
 "nbformat_minor": 5
}
